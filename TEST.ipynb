{
  "nbformat": 4,
  "nbformat_minor": 0,
  "metadata": {
    "colab": {
      "provenance": [],
      "authorship_tag": "ABX9TyNAt0ejiIQQLP2FhDJWht5T",
      "include_colab_link": true
    },
    "kernelspec": {
      "name": "python3",
      "display_name": "Python 3"
    },
    "language_info": {
      "name": "python"
    }
  },
  "cells": [
    {
      "cell_type": "markdown",
      "metadata": {
        "id": "view-in-github",
        "colab_type": "text"
      },
      "source": [
        "<a href=\"https://colab.research.google.com/github/earo12/Runge-Kutta/blob/first_variables/TEST.ipynb\" target=\"_parent\"><img src=\"https://colab.research.google.com/assets/colab-badge.svg\" alt=\"Open In Colab\"/></a>"
      ]
    },
    {
      "cell_type": "code",
      "execution_count": 1,
      "metadata": {
        "id": "2fyo5cpV8jv3"
      },
      "outputs": [],
      "source": [
        "import numpy as np\n",
        "import matplotlib.pyplot as plt\n",
        "\n",
        "# Constantes\n",
        "m = 1.0\n",
        "k = 1.0\n",
        "gamma = 0.15\n",
        "mu = 0.25\n"
      ]
    },
    {
      "cell_type": "code",
      "source": [
        "def friccion(vx, vy):\n",
        "    v = np.sqrt(vx**2 + vy**2)\n",
        "    if v <= 1:\n",
        "        return -gamma * np.array([vx, vy])\n",
        "    else:\n",
        "        return -mu * v**2 * np.array([vx, vy]) / v\n",
        "\n",
        "def derivadas(r, v):\n",
        "    fx, fy = friccion(v[0], v[1])\n",
        "    ax = -k * r[0] + fx\n",
        "    ay = -k * r[1] + fy\n",
        "    return np.array([ax, ay])\n",
        "\n",
        "def runge_kutta4(r0, v0, dt, t_final):\n",
        "    n_steps = int(t_final / dt)\n",
        "    r = np.zeros((n_steps, 2))\n",
        "    v = np.zeros((n_steps, 2))\n",
        "    r[0] = r0\n",
        "    v[0] = v0\n",
        "\n",
        "    for i in range(n_steps - 1):\n",
        "        k1_v = dt * derivadas(r[i], v[i])\n",
        "        k1_r = dt * v[i]\n",
        "\n",
        "        k2_v = dt * derivadas(r[i] + 0.5 * k1_r, v[i] + 0.5 * k1_v)\n",
        "        k2_r = dt * (v[i] + 0.5 * k1_v)\n",
        "\n",
        "        k3_v = dt * derivadas(r[i] + 0.5 * k2_r, v[i] + 0.5 * k2_v)\n",
        "        k3_r = dt * (v[i] + 0.5 * k2_v)\n",
        "\n",
        "        k4_v = dt * derivadas(r[i] + k3_r, v[i] + k3_v)\n",
        "        k4_r = dt * (v[i] + k3_v)\n",
        "\n",
        "        r[i + 1] = r[i] + (k1_r + 2 * k2_r + 2 * k3_r + k4_r) / 6\n",
        "        v[i + 1] = v[i] + (k1_v + 2 * k2_v + 2 * k3_v + k4_v) / 6\n",
        "\n",
        "    return r, v\n"
      ],
      "metadata": {
        "id": "acVoFQfi85gK"
      },
      "execution_count": 2,
      "outputs": []
    },
    {
      "cell_type": "code",
      "source": [
        "\n",
        "# Condiciones iniciales\n",
        "r0 = np.array([0, 1])\n",
        "theta_values = [n * np.pi / 6 for n in range(12)]\n",
        "t_final = 50  # tiempo final\n",
        "dt = 0.01  # paso de tiempo\n"
      ],
      "metadata": {
        "id": "h1iO1ReK9KKm"
      },
      "execution_count": 3,
      "outputs": []
    },
    {
      "cell_type": "code",
      "source": [],
      "metadata": {
        "id": "jHU8yF0z9dwn"
      },
      "execution_count": null,
      "outputs": []
    }
  ]
}